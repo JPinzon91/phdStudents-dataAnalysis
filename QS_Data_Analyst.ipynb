{
  "nbformat": 4,
  "nbformat_minor": 0,
  "metadata": {
    "colab": {
      "provenance": [],
      "authorship_tag": "ABX9TyNCgmk3sdCCTFL5FiOvLohi",
      "include_colab_link": true
    },
    "kernelspec": {
      "name": "python3",
      "display_name": "Python 3"
    },
    "language_info": {
      "name": "python"
    }
  },
  "cells": [
    {
      "cell_type": "markdown",
      "metadata": {
        "id": "view-in-github",
        "colab_type": "text"
      },
      "source": [
        "<a href=\"https://colab.research.google.com/github/JPinzon91/phdStudents-dataAnalysis/blob/main/QS_Data_Analyst.ipynb\" target=\"_parent\"><img src=\"https://colab.research.google.com/assets/colab-badge.svg\" alt=\"Open In Colab\"/></a>"
      ]
    },
    {
      "cell_type": "markdown",
      "source": [
        "# Data Analysis Challenge\n",
        "## Analyzing the factors contributing to sleep disorders in PhD candidates\n",
        "\n",
        "The goal is informing how academic workloads and routines may be impacting student well-being—particularly among PhD candidates."
      ],
      "metadata": {
        "id": "rKMdRuW-rLKR"
      }
    },
    {
      "cell_type": "markdown",
      "source": [
        "\n",
        "## 📌 Table of Contents\n",
        "1. [Data Understanding](#data-understanding)\n",
        "2. [Data Cleaning & Preprocessing](#data-cleaning-preprocessing)\n",
        "3. [Data Reports](#data-reports)\n",
        "4. [Data Visualization](#data-visualization)\n",
        "5. [Observations](#observations)\n",
        "\n",
        "---\n",
        "\n",
        "\n",
        "\n"
      ],
      "metadata": {
        "id": "UG4mDjCdr3-5"
      }
    },
    {
      "cell_type": "markdown",
      "source": [
        "# 1. 📊 Data Understanding <a name=\"data-understanding\"></a>"
      ],
      "metadata": {
        "id": "s2qCs4BvQvc7"
      }
    },
    {
      "cell_type": "code",
      "execution_count": null,
      "metadata": {
        "id": "aOH-AG3XE0ue"
      },
      "outputs": [],
      "source": [
        "import pandas as pd\n",
        "import numpy as np\n",
        "import seaborn as sns\n",
        "import matplotlib.pyplot as plt\n",
        "import plotly.express as px"
      ]
    },
    {
      "cell_type": "code",
      "source": [
        "# Part A - Load Dataset\n",
        "# Import data from directory\n",
        "def import_data (path):\n",
        "    dataframe_0 = pd.read_csv(path, keep_default_na=False, na_values=[\"\",''])\n",
        "    return dataframe_0\n",
        "\n",
        "path = '/content/data_analyst_coding_challenge_data.csv' #Replace with your file\n",
        "dataframe_0 = import_data(path)"
      ],
      "metadata": {
        "id": "UEl2Hbx6slrW"
      },
      "execution_count": null,
      "outputs": []
    },
    {
      "cell_type": "code",
      "source": [
        "# Part B - Calculates the percentage of nulls values for the desire column\n",
        "def get_null_percentage (column_name):\n",
        "    totalNulls = dataframe_0[column_name].isnull().sum()\n",
        "    percentage = (totalNulls / len(dataframe_0[column_name])) * 100\n",
        "\n",
        "    return round(percentage,2)\n",
        "\n",
        "columnName = 'Age'\n",
        "percentage = get_null_percentage(columnName)\n",
        "columnNulls = {\n",
        "      'column_name' : [columnName],\n",
        "      'null_percentage' : [percentage]\n",
        "      }\n",
        "dataframe_1 = pd.DataFrame(columnNulls)\n",
        "print(dataframe_1)"
      ],
      "metadata": {
        "colab": {
          "base_uri": "https://localhost:8080/"
        },
        "id": "J9hXG5qUtApp",
        "outputId": "3b5b0379-1257-40a7-df28-b8259e84b4ab"
      },
      "execution_count": null,
      "outputs": [
        {
          "output_type": "stream",
          "name": "stdout",
          "text": [
            "  column_name  null_percentage\n",
            "0         Age             0.53\n"
          ]
        }
      ]
    },
    {
      "cell_type": "code",
      "source": [
        "# Part C - Statistical metrics for numeric columns\n",
        "def statistical_metrics ():\n",
        "    dataStatistics = dataframe_0.select_dtypes(include=np.number)\n",
        "    mean = dataStatistics.mean()\n",
        "    median = dataStatistics.median()\n",
        "    standardDev = dataStatistics.std()\n",
        "    percentile_20 = dataStatistics.quantile(0.2)\n",
        "    percentile_55 = dataStatistics.quantile(0.55)\n",
        "    percentile_90 = dataStatistics.quantile(0.9)\n",
        "\n",
        "    rename = [\n",
        "        'mean', 'median', 'standard_deviation',\n",
        "        'percentile_20', 'percentile_55', 'percentile_90'\n",
        "        ]\n",
        "\n",
        "    dataframe_2 = pd.concat([\n",
        "        mean,median,standardDev,\n",
        "        percentile_20,percentile_55,percentile_90],\n",
        "        axis=1\n",
        "        )\n",
        "\n",
        "    dataframe_2.columns = rename\n",
        "    return dataframe_2\n",
        "\n",
        "print(statistical_metrics())"
      ],
      "metadata": {
        "colab": {
          "base_uri": "https://localhost:8080/"
        },
        "id": "aojkpctPtLwn",
        "outputId": "19cd0455-f02f-439a-a875-18b6a79be26c"
      },
      "execution_count": null,
      "outputs": [
        {
          "output_type": "stream",
          "name": "stdout",
          "text": [
            "                                mean  median  standard_deviation  \\\n",
            "Person ID                 187.500000   187.5          108.108742   \n",
            "Age                        42.137097    42.5            8.652315   \n",
            "Sleep Duration              7.132086     7.2            0.795657   \n",
            "Quality of Sleep            7.312834     7.0            1.196956   \n",
            "Physical Activity Level    59.171123    60.0           20.830804   \n",
            "Stress Level                5.391421     5.0            1.772590   \n",
            "Heart Rate                 70.165775    70.0            4.135676   \n",
            "Daily Steps              6816.844920  7000.0         1617.915679   \n",
            "\n",
            "                         percentile_20  percentile_55  percentile_90  \n",
            "Person ID                         75.6         206.15          336.7  \n",
            "Age                               33.0          43.00           54.0  \n",
            "Sleep Duration                     6.3           7.20            8.2  \n",
            "Quality of Sleep                   6.0           8.00            9.0  \n",
            "Physical Activity Level           40.0          60.00           90.0  \n",
            "Stress Level                       4.0           5.00            8.0  \n",
            "Heart Rate                        68.0          70.00           75.0  \n",
            "Daily Steps                     5000.0        7000.00         8000.0  \n"
          ]
        }
      ]
    },
    {
      "cell_type": "code",
      "source": [
        "# Part D - Determine Unique Count, Most Frequent and Least Frequent elements\n",
        "def string_counting ():\n",
        "    \"\"\" Calculates the number of unique values, identifies the most frequent values\n",
        "        and the least frequent values for each attribute\"\"\"\n",
        "    dataCounting = dataframe_0.select_dtypes(include=object)\n",
        "    unique_count = dataCounting.nunique()\n",
        "\n",
        "    valuesCount = dataCounting.apply(pd.Series.value_counts)\n",
        "    most_frequent_element = valuesCount.idxmax()\n",
        "    least_frequent_element = valuesCount.idxmin()\n",
        "\n",
        "    rename = [\n",
        "        'unique_count', 'most_frequent_element', 'least_frequent_element'\n",
        "        ]\n",
        "\n",
        "    dataframe_3 = pd.concat([\n",
        "        unique_count, most_frequent_element, least_frequent_element],\n",
        "        axis=1\n",
        "        )\n",
        "\n",
        "    dataframe_3.columns = rename\n",
        "    return dataframe_3\n",
        "\n",
        "print(string_counting())"
      ],
      "metadata": {
        "colab": {
          "base_uri": "https://localhost:8080/"
        },
        "id": "G5UzBQKgtY3q",
        "outputId": "bf6ae170-d47a-4f7e-bf81-3932790e065d"
      },
      "execution_count": null,
      "outputs": [
        {
          "output_type": "stream",
          "name": "stdout",
          "text": [
            "                unique_count most_frequent_element least_frequent_element\n",
            "Gender                     2                  Male                 Female\n",
            "Occupation                11                 Nurse                Manager\n",
            "BMI Category               4                Normal                  Obese\n",
            "Blood Pressure            25                130/85                 118/76\n",
            "Sleep Disorder             3                  None               Insomnia\n"
          ]
        }
      ]
    },
    {
      "cell_type": "markdown",
      "source": [
        "# 2. 🧼 Data Cleaning & Preprocessing <a name=\"data-cleaning-preprocessing\"></a>\n"
      ],
      "metadata": {
        "id": "8B5r3M8rv4dw"
      }
    },
    {
      "cell_type": "code",
      "source": [
        "# Part A - Splitting Blood Pressure to two columns (Blood Pressure High & Blood Pressure Low)\n",
        "bloodSplit = dataframe_0['Blood Pressure'].str.split(pat=\"/\", expand=True)\n",
        "dataframe_0['Blood Pressure High'] = bloodSplit[0].astype(int)\n",
        "dataframe_0['Blood Pressure Low'] = bloodSplit[1].astype(int)\n",
        "dataframe_0.head()"
      ],
      "metadata": {
        "colab": {
          "base_uri": "https://localhost:8080/",
          "height": 293
        },
        "id": "u2mgKueltyxZ",
        "outputId": "7973542a-51ce-44c6-dda4-4ffab8da0a9b"
      },
      "execution_count": null,
      "outputs": [
        {
          "output_type": "execute_result",
          "data": {
            "text/plain": [
              "   Person ID Gender   Age            Occupation  Sleep Duration  \\\n",
              "0          1   Male  27.0     Software Engineer             6.1   \n",
              "1          2   Male  28.0                Doctor             6.2   \n",
              "2          3   Male  28.0                Doctor             6.2   \n",
              "3          4   Male  28.0  Sales Representative             5.9   \n",
              "4          5   Male  28.0  Sales Representative             5.9   \n",
              "\n",
              "   Quality of Sleep  Physical Activity Level  Stress Level BMI Category  \\\n",
              "0                 6                       42           6.0   Overweight   \n",
              "1                 6                       60           8.0       Normal   \n",
              "2                 6                       60           8.0       Normal   \n",
              "3                 4                       30           8.0        Obese   \n",
              "4                 4                       30           8.0        Obese   \n",
              "\n",
              "  Blood Pressure  Heart Rate  Daily Steps Sleep Disorder  Blood Pressure High  \\\n",
              "0         126/83          77         4200           None                  126   \n",
              "1         125/80          75        10000           None                  125   \n",
              "2         125/80          75        10000           None                  125   \n",
              "3         140/90          85         3000    Sleep Apnea                  140   \n",
              "4         140/90          85         3000    Sleep Apnea                  140   \n",
              "\n",
              "   Blood Pressure Low  \n",
              "0                  83  \n",
              "1                  80  \n",
              "2                  80  \n",
              "3                  90  \n",
              "4                  90  "
            ],
            "text/html": [
              "\n",
              "  <div id=\"df-3f23c3d9-ab8c-43ee-941b-fa49b6dab22f\" class=\"colab-df-container\">\n",
              "    <div>\n",
              "<style scoped>\n",
              "    .dataframe tbody tr th:only-of-type {\n",
              "        vertical-align: middle;\n",
              "    }\n",
              "\n",
              "    .dataframe tbody tr th {\n",
              "        vertical-align: top;\n",
              "    }\n",
              "\n",
              "    .dataframe thead th {\n",
              "        text-align: right;\n",
              "    }\n",
              "</style>\n",
              "<table border=\"1\" class=\"dataframe\">\n",
              "  <thead>\n",
              "    <tr style=\"text-align: right;\">\n",
              "      <th></th>\n",
              "      <th>Person ID</th>\n",
              "      <th>Gender</th>\n",
              "      <th>Age</th>\n",
              "      <th>Occupation</th>\n",
              "      <th>Sleep Duration</th>\n",
              "      <th>Quality of Sleep</th>\n",
              "      <th>Physical Activity Level</th>\n",
              "      <th>Stress Level</th>\n",
              "      <th>BMI Category</th>\n",
              "      <th>Blood Pressure</th>\n",
              "      <th>Heart Rate</th>\n",
              "      <th>Daily Steps</th>\n",
              "      <th>Sleep Disorder</th>\n",
              "      <th>Blood Pressure High</th>\n",
              "      <th>Blood Pressure Low</th>\n",
              "    </tr>\n",
              "  </thead>\n",
              "  <tbody>\n",
              "    <tr>\n",
              "      <th>0</th>\n",
              "      <td>1</td>\n",
              "      <td>Male</td>\n",
              "      <td>27.0</td>\n",
              "      <td>Software Engineer</td>\n",
              "      <td>6.1</td>\n",
              "      <td>6</td>\n",
              "      <td>42</td>\n",
              "      <td>6.0</td>\n",
              "      <td>Overweight</td>\n",
              "      <td>126/83</td>\n",
              "      <td>77</td>\n",
              "      <td>4200</td>\n",
              "      <td>None</td>\n",
              "      <td>126</td>\n",
              "      <td>83</td>\n",
              "    </tr>\n",
              "    <tr>\n",
              "      <th>1</th>\n",
              "      <td>2</td>\n",
              "      <td>Male</td>\n",
              "      <td>28.0</td>\n",
              "      <td>Doctor</td>\n",
              "      <td>6.2</td>\n",
              "      <td>6</td>\n",
              "      <td>60</td>\n",
              "      <td>8.0</td>\n",
              "      <td>Normal</td>\n",
              "      <td>125/80</td>\n",
              "      <td>75</td>\n",
              "      <td>10000</td>\n",
              "      <td>None</td>\n",
              "      <td>125</td>\n",
              "      <td>80</td>\n",
              "    </tr>\n",
              "    <tr>\n",
              "      <th>2</th>\n",
              "      <td>3</td>\n",
              "      <td>Male</td>\n",
              "      <td>28.0</td>\n",
              "      <td>Doctor</td>\n",
              "      <td>6.2</td>\n",
              "      <td>6</td>\n",
              "      <td>60</td>\n",
              "      <td>8.0</td>\n",
              "      <td>Normal</td>\n",
              "      <td>125/80</td>\n",
              "      <td>75</td>\n",
              "      <td>10000</td>\n",
              "      <td>None</td>\n",
              "      <td>125</td>\n",
              "      <td>80</td>\n",
              "    </tr>\n",
              "    <tr>\n",
              "      <th>3</th>\n",
              "      <td>4</td>\n",
              "      <td>Male</td>\n",
              "      <td>28.0</td>\n",
              "      <td>Sales Representative</td>\n",
              "      <td>5.9</td>\n",
              "      <td>4</td>\n",
              "      <td>30</td>\n",
              "      <td>8.0</td>\n",
              "      <td>Obese</td>\n",
              "      <td>140/90</td>\n",
              "      <td>85</td>\n",
              "      <td>3000</td>\n",
              "      <td>Sleep Apnea</td>\n",
              "      <td>140</td>\n",
              "      <td>90</td>\n",
              "    </tr>\n",
              "    <tr>\n",
              "      <th>4</th>\n",
              "      <td>5</td>\n",
              "      <td>Male</td>\n",
              "      <td>28.0</td>\n",
              "      <td>Sales Representative</td>\n",
              "      <td>5.9</td>\n",
              "      <td>4</td>\n",
              "      <td>30</td>\n",
              "      <td>8.0</td>\n",
              "      <td>Obese</td>\n",
              "      <td>140/90</td>\n",
              "      <td>85</td>\n",
              "      <td>3000</td>\n",
              "      <td>Sleep Apnea</td>\n",
              "      <td>140</td>\n",
              "      <td>90</td>\n",
              "    </tr>\n",
              "  </tbody>\n",
              "</table>\n",
              "</div>\n",
              "    <div class=\"colab-df-buttons\">\n",
              "\n",
              "  <div class=\"colab-df-container\">\n",
              "    <button class=\"colab-df-convert\" onclick=\"convertToInteractive('df-3f23c3d9-ab8c-43ee-941b-fa49b6dab22f')\"\n",
              "            title=\"Convert this dataframe to an interactive table.\"\n",
              "            style=\"display:none;\">\n",
              "\n",
              "  <svg xmlns=\"http://www.w3.org/2000/svg\" height=\"24px\" viewBox=\"0 -960 960 960\">\n",
              "    <path d=\"M120-120v-720h720v720H120Zm60-500h600v-160H180v160Zm220 220h160v-160H400v160Zm0 220h160v-160H400v160ZM180-400h160v-160H180v160Zm440 0h160v-160H620v160ZM180-180h160v-160H180v160Zm440 0h160v-160H620v160Z\"/>\n",
              "  </svg>\n",
              "    </button>\n",
              "\n",
              "  <style>\n",
              "    .colab-df-container {\n",
              "      display:flex;\n",
              "      gap: 12px;\n",
              "    }\n",
              "\n",
              "    .colab-df-convert {\n",
              "      background-color: #E8F0FE;\n",
              "      border: none;\n",
              "      border-radius: 50%;\n",
              "      cursor: pointer;\n",
              "      display: none;\n",
              "      fill: #1967D2;\n",
              "      height: 32px;\n",
              "      padding: 0 0 0 0;\n",
              "      width: 32px;\n",
              "    }\n",
              "\n",
              "    .colab-df-convert:hover {\n",
              "      background-color: #E2EBFA;\n",
              "      box-shadow: 0px 1px 2px rgba(60, 64, 67, 0.3), 0px 1px 3px 1px rgba(60, 64, 67, 0.15);\n",
              "      fill: #174EA6;\n",
              "    }\n",
              "\n",
              "    .colab-df-buttons div {\n",
              "      margin-bottom: 4px;\n",
              "    }\n",
              "\n",
              "    [theme=dark] .colab-df-convert {\n",
              "      background-color: #3B4455;\n",
              "      fill: #D2E3FC;\n",
              "    }\n",
              "\n",
              "    [theme=dark] .colab-df-convert:hover {\n",
              "      background-color: #434B5C;\n",
              "      box-shadow: 0px 1px 3px 1px rgba(0, 0, 0, 0.15);\n",
              "      filter: drop-shadow(0px 1px 2px rgba(0, 0, 0, 0.3));\n",
              "      fill: #FFFFFF;\n",
              "    }\n",
              "  </style>\n",
              "\n",
              "    <script>\n",
              "      const buttonEl =\n",
              "        document.querySelector('#df-3f23c3d9-ab8c-43ee-941b-fa49b6dab22f button.colab-df-convert');\n",
              "      buttonEl.style.display =\n",
              "        google.colab.kernel.accessAllowed ? 'block' : 'none';\n",
              "\n",
              "      async function convertToInteractive(key) {\n",
              "        const element = document.querySelector('#df-3f23c3d9-ab8c-43ee-941b-fa49b6dab22f');\n",
              "        const dataTable =\n",
              "          await google.colab.kernel.invokeFunction('convertToInteractive',\n",
              "                                                    [key], {});\n",
              "        if (!dataTable) return;\n",
              "\n",
              "        const docLinkHtml = 'Like what you see? Visit the ' +\n",
              "          '<a target=\"_blank\" href=https://colab.research.google.com/notebooks/data_table.ipynb>data table notebook</a>'\n",
              "          + ' to learn more about interactive tables.';\n",
              "        element.innerHTML = '';\n",
              "        dataTable['output_type'] = 'display_data';\n",
              "        await google.colab.output.renderOutput(dataTable, element);\n",
              "        const docLink = document.createElement('div');\n",
              "        docLink.innerHTML = docLinkHtml;\n",
              "        element.appendChild(docLink);\n",
              "      }\n",
              "    </script>\n",
              "  </div>\n",
              "\n",
              "\n",
              "<div id=\"df-4c8f370e-e6ab-445c-bb34-3d55bb0566ce\">\n",
              "  <button class=\"colab-df-quickchart\" onclick=\"quickchart('df-4c8f370e-e6ab-445c-bb34-3d55bb0566ce')\"\n",
              "            title=\"Suggest charts\"\n",
              "            style=\"display:none;\">\n",
              "\n",
              "<svg xmlns=\"http://www.w3.org/2000/svg\" height=\"24px\"viewBox=\"0 0 24 24\"\n",
              "     width=\"24px\">\n",
              "    <g>\n",
              "        <path d=\"M19 3H5c-1.1 0-2 .9-2 2v14c0 1.1.9 2 2 2h14c1.1 0 2-.9 2-2V5c0-1.1-.9-2-2-2zM9 17H7v-7h2v7zm4 0h-2V7h2v10zm4 0h-2v-4h2v4z\"/>\n",
              "    </g>\n",
              "</svg>\n",
              "  </button>\n",
              "\n",
              "<style>\n",
              "  .colab-df-quickchart {\n",
              "      --bg-color: #E8F0FE;\n",
              "      --fill-color: #1967D2;\n",
              "      --hover-bg-color: #E2EBFA;\n",
              "      --hover-fill-color: #174EA6;\n",
              "      --disabled-fill-color: #AAA;\n",
              "      --disabled-bg-color: #DDD;\n",
              "  }\n",
              "\n",
              "  [theme=dark] .colab-df-quickchart {\n",
              "      --bg-color: #3B4455;\n",
              "      --fill-color: #D2E3FC;\n",
              "      --hover-bg-color: #434B5C;\n",
              "      --hover-fill-color: #FFFFFF;\n",
              "      --disabled-bg-color: #3B4455;\n",
              "      --disabled-fill-color: #666;\n",
              "  }\n",
              "\n",
              "  .colab-df-quickchart {\n",
              "    background-color: var(--bg-color);\n",
              "    border: none;\n",
              "    border-radius: 50%;\n",
              "    cursor: pointer;\n",
              "    display: none;\n",
              "    fill: var(--fill-color);\n",
              "    height: 32px;\n",
              "    padding: 0;\n",
              "    width: 32px;\n",
              "  }\n",
              "\n",
              "  .colab-df-quickchart:hover {\n",
              "    background-color: var(--hover-bg-color);\n",
              "    box-shadow: 0 1px 2px rgba(60, 64, 67, 0.3), 0 1px 3px 1px rgba(60, 64, 67, 0.15);\n",
              "    fill: var(--button-hover-fill-color);\n",
              "  }\n",
              "\n",
              "  .colab-df-quickchart-complete:disabled,\n",
              "  .colab-df-quickchart-complete:disabled:hover {\n",
              "    background-color: var(--disabled-bg-color);\n",
              "    fill: var(--disabled-fill-color);\n",
              "    box-shadow: none;\n",
              "  }\n",
              "\n",
              "  .colab-df-spinner {\n",
              "    border: 2px solid var(--fill-color);\n",
              "    border-color: transparent;\n",
              "    border-bottom-color: var(--fill-color);\n",
              "    animation:\n",
              "      spin 1s steps(1) infinite;\n",
              "  }\n",
              "\n",
              "  @keyframes spin {\n",
              "    0% {\n",
              "      border-color: transparent;\n",
              "      border-bottom-color: var(--fill-color);\n",
              "      border-left-color: var(--fill-color);\n",
              "    }\n",
              "    20% {\n",
              "      border-color: transparent;\n",
              "      border-left-color: var(--fill-color);\n",
              "      border-top-color: var(--fill-color);\n",
              "    }\n",
              "    30% {\n",
              "      border-color: transparent;\n",
              "      border-left-color: var(--fill-color);\n",
              "      border-top-color: var(--fill-color);\n",
              "      border-right-color: var(--fill-color);\n",
              "    }\n",
              "    40% {\n",
              "      border-color: transparent;\n",
              "      border-right-color: var(--fill-color);\n",
              "      border-top-color: var(--fill-color);\n",
              "    }\n",
              "    60% {\n",
              "      border-color: transparent;\n",
              "      border-right-color: var(--fill-color);\n",
              "    }\n",
              "    80% {\n",
              "      border-color: transparent;\n",
              "      border-right-color: var(--fill-color);\n",
              "      border-bottom-color: var(--fill-color);\n",
              "    }\n",
              "    90% {\n",
              "      border-color: transparent;\n",
              "      border-bottom-color: var(--fill-color);\n",
              "    }\n",
              "  }\n",
              "</style>\n",
              "\n",
              "  <script>\n",
              "    async function quickchart(key) {\n",
              "      const quickchartButtonEl =\n",
              "        document.querySelector('#' + key + ' button');\n",
              "      quickchartButtonEl.disabled = true;  // To prevent multiple clicks.\n",
              "      quickchartButtonEl.classList.add('colab-df-spinner');\n",
              "      try {\n",
              "        const charts = await google.colab.kernel.invokeFunction(\n",
              "            'suggestCharts', [key], {});\n",
              "      } catch (error) {\n",
              "        console.error('Error during call to suggestCharts:', error);\n",
              "      }\n",
              "      quickchartButtonEl.classList.remove('colab-df-spinner');\n",
              "      quickchartButtonEl.classList.add('colab-df-quickchart-complete');\n",
              "    }\n",
              "    (() => {\n",
              "      let quickchartButtonEl =\n",
              "        document.querySelector('#df-4c8f370e-e6ab-445c-bb34-3d55bb0566ce button');\n",
              "      quickchartButtonEl.style.display =\n",
              "        google.colab.kernel.accessAllowed ? 'block' : 'none';\n",
              "    })();\n",
              "  </script>\n",
              "</div>\n",
              "\n",
              "    </div>\n",
              "  </div>\n"
            ],
            "application/vnd.google.colaboratory.intrinsic+json": {
              "type": "dataframe",
              "variable_name": "dataframe_0",
              "summary": "{\n  \"name\": \"dataframe_0\",\n  \"rows\": 374,\n  \"fields\": [\n    {\n      \"column\": \"Person ID\",\n      \"properties\": {\n        \"dtype\": \"number\",\n        \"std\": 108,\n        \"min\": 1,\n        \"max\": 374,\n        \"num_unique_values\": 374,\n        \"samples\": [\n          330,\n          34,\n          16\n        ],\n        \"semantic_type\": \"\",\n        \"description\": \"\"\n      }\n    },\n    {\n      \"column\": \"Gender\",\n      \"properties\": {\n        \"dtype\": \"category\",\n        \"num_unique_values\": 2,\n        \"samples\": [\n          \"Female\",\n          \"Male\"\n        ],\n        \"semantic_type\": \"\",\n        \"description\": \"\"\n      }\n    },\n    {\n      \"column\": \"Age\",\n      \"properties\": {\n        \"dtype\": \"number\",\n        \"std\": 8.652315032981786,\n        \"min\": 27.0,\n        \"max\": 59.0,\n        \"num_unique_values\": 31,\n        \"samples\": [\n          56.0,\n          42.0\n        ],\n        \"semantic_type\": \"\",\n        \"description\": \"\"\n      }\n    },\n    {\n      \"column\": \"Occupation\",\n      \"properties\": {\n        \"dtype\": \"category\",\n        \"num_unique_values\": 11,\n        \"samples\": [\n          \"Engineer\",\n          \"Software Engineer\"\n        ],\n        \"semantic_type\": \"\",\n        \"description\": \"\"\n      }\n    },\n    {\n      \"column\": \"Sleep Duration\",\n      \"properties\": {\n        \"dtype\": \"number\",\n        \"std\": 0.7956567308898188,\n        \"min\": 5.8,\n        \"max\": 8.5,\n        \"num_unique_values\": 27,\n        \"samples\": [\n          7.7,\n          5.8\n        ],\n        \"semantic_type\": \"\",\n        \"description\": \"\"\n      }\n    },\n    {\n      \"column\": \"Quality of Sleep\",\n      \"properties\": {\n        \"dtype\": \"number\",\n        \"std\": 1,\n        \"min\": 4,\n        \"max\": 9,\n        \"num_unique_values\": 6,\n        \"samples\": [\n          6,\n          4\n        ],\n        \"semantic_type\": \"\",\n        \"description\": \"\"\n      }\n    },\n    {\n      \"column\": \"Physical Activity Level\",\n      \"properties\": {\n        \"dtype\": \"number\",\n        \"std\": 20,\n        \"min\": 30,\n        \"max\": 90,\n        \"num_unique_values\": 16,\n        \"samples\": [\n          42,\n          60\n        ],\n        \"semantic_type\": \"\",\n        \"description\": \"\"\n      }\n    },\n    {\n      \"column\": \"Stress Level\",\n      \"properties\": {\n        \"dtype\": \"number\",\n        \"std\": 1.7725904036251263,\n        \"min\": 3.0,\n        \"max\": 8.0,\n        \"num_unique_values\": 6,\n        \"samples\": [\n          6.0,\n          8.0\n        ],\n        \"semantic_type\": \"\",\n        \"description\": \"\"\n      }\n    },\n    {\n      \"column\": \"BMI Category\",\n      \"properties\": {\n        \"dtype\": \"category\",\n        \"num_unique_values\": 4,\n        \"samples\": [\n          \"Normal\",\n          \"Normal Weight\"\n        ],\n        \"semantic_type\": \"\",\n        \"description\": \"\"\n      }\n    },\n    {\n      \"column\": \"Blood Pressure\",\n      \"properties\": {\n        \"dtype\": \"category\",\n        \"num_unique_values\": 25,\n        \"samples\": [\n          \"128/85\",\n          \"119/77\"\n        ],\n        \"semantic_type\": \"\",\n        \"description\": \"\"\n      }\n    },\n    {\n      \"column\": \"Heart Rate\",\n      \"properties\": {\n        \"dtype\": \"number\",\n        \"std\": 4,\n        \"min\": 65,\n        \"max\": 86,\n        \"num_unique_values\": 19,\n        \"samples\": [\n          77,\n          80\n        ],\n        \"semantic_type\": \"\",\n        \"description\": \"\"\n      }\n    },\n    {\n      \"column\": \"Daily Steps\",\n      \"properties\": {\n        \"dtype\": \"number\",\n        \"std\": 1617,\n        \"min\": 3000,\n        \"max\": 10000,\n        \"num_unique_values\": 20,\n        \"samples\": [\n          4200,\n          6200\n        ],\n        \"semantic_type\": \"\",\n        \"description\": \"\"\n      }\n    },\n    {\n      \"column\": \"Sleep Disorder\",\n      \"properties\": {\n        \"dtype\": \"category\",\n        \"num_unique_values\": 3,\n        \"samples\": [\n          \"None\",\n          \"Sleep Apnea\"\n        ],\n        \"semantic_type\": \"\",\n        \"description\": \"\"\n      }\n    },\n    {\n      \"column\": \"Blood Pressure High\",\n      \"properties\": {\n        \"dtype\": \"number\",\n        \"std\": 7,\n        \"min\": 115,\n        \"max\": 142,\n        \"num_unique_values\": 18,\n        \"samples\": [\n          126,\n          125\n        ],\n        \"semantic_type\": \"\",\n        \"description\": \"\"\n      }\n    },\n    {\n      \"column\": \"Blood Pressure Low\",\n      \"properties\": {\n        \"dtype\": \"number\",\n        \"std\": 6,\n        \"min\": 75,\n        \"max\": 95,\n        \"num_unique_values\": 17,\n        \"samples\": [\n          83,\n          80\n        ],\n        \"semantic_type\": \"\",\n        \"description\": \"\"\n      }\n    }\n  ]\n}"
            }
          },
          "metadata": {},
          "execution_count": 6
        }
      ]
    },
    {
      "cell_type": "code",
      "source": [
        "# Part B - Index Refactor\n",
        "# Defining the new user ID following the foramt YYYYY-ZZZ\n",
        "def get_new_index (person_id, gender, occupation):\n",
        "\n",
        "  #YYYYY is calculated by taking the 5 decimal values from the PersonID * PI (π)\n",
        "    np.pi\n",
        "    piPersonId = person_id * np.pi\n",
        "    newPersonId = str(int((piPersonId % 1) * 100000))\n",
        "    occupationMod = occupation.split()\n",
        "\n",
        "# Validate if the Occupation has more than 1 word\n",
        "    if len(occupationMod) < 2:\n",
        "        newPersonId = (newPersonId\n",
        "                       + '-'\n",
        "                       + gender[0]\n",
        "                       + occupationMod[0][0])\n",
        "    else:\n",
        "        newPersonId = (newPersonId\n",
        "                       + '-'\n",
        "                       + gender[0]\n",
        "                       + occupationMod[0][0]\n",
        "                       + occupationMod[1][0])\n",
        "\n",
        "    return newPersonId\n",
        "\n",
        "dataframe_0['Person ID'] = dataframe_0.apply(lambda row: get_new_index(\n",
        "                                            row['Person ID'], row['Gender'],\n",
        "                                            row['Occupation']), axis=1\n",
        "                                            )\n",
        "dataframe_0.head()"
      ],
      "metadata": {
        "colab": {
          "base_uri": "https://localhost:8080/",
          "height": 328
        },
        "id": "nE2Kx5hkt-Fs",
        "outputId": "71aa2d26-d318-4bbf-f04e-19653dca9c2d"
      },
      "execution_count": null,
      "outputs": [
        {
          "output_type": "execute_result",
          "data": {
            "text/plain": [
              "   Person ID Gender   Age            Occupation  Sleep Duration  \\\n",
              "0  14159-MSE   Male  27.0     Software Engineer             6.1   \n",
              "1   28318-MD   Male  28.0                Doctor             6.2   \n",
              "2   42477-MD   Male  28.0                Doctor             6.2   \n",
              "3  56637-MSR   Male  28.0  Sales Representative             5.9   \n",
              "4  70796-MSR   Male  28.0  Sales Representative             5.9   \n",
              "\n",
              "   Quality of Sleep  Physical Activity Level  Stress Level BMI Category  \\\n",
              "0                 6                       42           6.0   Overweight   \n",
              "1                 6                       60           8.0       Normal   \n",
              "2                 6                       60           8.0       Normal   \n",
              "3                 4                       30           8.0        Obese   \n",
              "4                 4                       30           8.0        Obese   \n",
              "\n",
              "  Blood Pressure  Heart Rate  Daily Steps Sleep Disorder  Blood Pressure High  \\\n",
              "0         126/83          77         4200           None                  126   \n",
              "1         125/80          75        10000           None                  125   \n",
              "2         125/80          75        10000           None                  125   \n",
              "3         140/90          85         3000    Sleep Apnea                  140   \n",
              "4         140/90          85         3000    Sleep Apnea                  140   \n",
              "\n",
              "   Blood Pressure Low  \n",
              "0                  83  \n",
              "1                  80  \n",
              "2                  80  \n",
              "3                  90  \n",
              "4                  90  "
            ],
            "text/html": [
              "\n",
              "  <div id=\"df-5fcf1d36-be01-46f8-854c-db6bff48118b\" class=\"colab-df-container\">\n",
              "    <div>\n",
              "<style scoped>\n",
              "    .dataframe tbody tr th:only-of-type {\n",
              "        vertical-align: middle;\n",
              "    }\n",
              "\n",
              "    .dataframe tbody tr th {\n",
              "        vertical-align: top;\n",
              "    }\n",
              "\n",
              "    .dataframe thead th {\n",
              "        text-align: right;\n",
              "    }\n",
              "</style>\n",
              "<table border=\"1\" class=\"dataframe\">\n",
              "  <thead>\n",
              "    <tr style=\"text-align: right;\">\n",
              "      <th></th>\n",
              "      <th>Person ID</th>\n",
              "      <th>Gender</th>\n",
              "      <th>Age</th>\n",
              "      <th>Occupation</th>\n",
              "      <th>Sleep Duration</th>\n",
              "      <th>Quality of Sleep</th>\n",
              "      <th>Physical Activity Level</th>\n",
              "      <th>Stress Level</th>\n",
              "      <th>BMI Category</th>\n",
              "      <th>Blood Pressure</th>\n",
              "      <th>Heart Rate</th>\n",
              "      <th>Daily Steps</th>\n",
              "      <th>Sleep Disorder</th>\n",
              "      <th>Blood Pressure High</th>\n",
              "      <th>Blood Pressure Low</th>\n",
              "    </tr>\n",
              "  </thead>\n",
              "  <tbody>\n",
              "    <tr>\n",
              "      <th>0</th>\n",
              "      <td>14159-MSE</td>\n",
              "      <td>Male</td>\n",
              "      <td>27.0</td>\n",
              "      <td>Software Engineer</td>\n",
              "      <td>6.1</td>\n",
              "      <td>6</td>\n",
              "      <td>42</td>\n",
              "      <td>6.0</td>\n",
              "      <td>Overweight</td>\n",
              "      <td>126/83</td>\n",
              "      <td>77</td>\n",
              "      <td>4200</td>\n",
              "      <td>None</td>\n",
              "      <td>126</td>\n",
              "      <td>83</td>\n",
              "    </tr>\n",
              "    <tr>\n",
              "      <th>1</th>\n",
              "      <td>28318-MD</td>\n",
              "      <td>Male</td>\n",
              "      <td>28.0</td>\n",
              "      <td>Doctor</td>\n",
              "      <td>6.2</td>\n",
              "      <td>6</td>\n",
              "      <td>60</td>\n",
              "      <td>8.0</td>\n",
              "      <td>Normal</td>\n",
              "      <td>125/80</td>\n",
              "      <td>75</td>\n",
              "      <td>10000</td>\n",
              "      <td>None</td>\n",
              "      <td>125</td>\n",
              "      <td>80</td>\n",
              "    </tr>\n",
              "    <tr>\n",
              "      <th>2</th>\n",
              "      <td>42477-MD</td>\n",
              "      <td>Male</td>\n",
              "      <td>28.0</td>\n",
              "      <td>Doctor</td>\n",
              "      <td>6.2</td>\n",
              "      <td>6</td>\n",
              "      <td>60</td>\n",
              "      <td>8.0</td>\n",
              "      <td>Normal</td>\n",
              "      <td>125/80</td>\n",
              "      <td>75</td>\n",
              "      <td>10000</td>\n",
              "      <td>None</td>\n",
              "      <td>125</td>\n",
              "      <td>80</td>\n",
              "    </tr>\n",
              "    <tr>\n",
              "      <th>3</th>\n",
              "      <td>56637-MSR</td>\n",
              "      <td>Male</td>\n",
              "      <td>28.0</td>\n",
              "      <td>Sales Representative</td>\n",
              "      <td>5.9</td>\n",
              "      <td>4</td>\n",
              "      <td>30</td>\n",
              "      <td>8.0</td>\n",
              "      <td>Obese</td>\n",
              "      <td>140/90</td>\n",
              "      <td>85</td>\n",
              "      <td>3000</td>\n",
              "      <td>Sleep Apnea</td>\n",
              "      <td>140</td>\n",
              "      <td>90</td>\n",
              "    </tr>\n",
              "    <tr>\n",
              "      <th>4</th>\n",
              "      <td>70796-MSR</td>\n",
              "      <td>Male</td>\n",
              "      <td>28.0</td>\n",
              "      <td>Sales Representative</td>\n",
              "      <td>5.9</td>\n",
              "      <td>4</td>\n",
              "      <td>30</td>\n",
              "      <td>8.0</td>\n",
              "      <td>Obese</td>\n",
              "      <td>140/90</td>\n",
              "      <td>85</td>\n",
              "      <td>3000</td>\n",
              "      <td>Sleep Apnea</td>\n",
              "      <td>140</td>\n",
              "      <td>90</td>\n",
              "    </tr>\n",
              "  </tbody>\n",
              "</table>\n",
              "</div>\n",
              "    <div class=\"colab-df-buttons\">\n",
              "\n",
              "  <div class=\"colab-df-container\">\n",
              "    <button class=\"colab-df-convert\" onclick=\"convertToInteractive('df-5fcf1d36-be01-46f8-854c-db6bff48118b')\"\n",
              "            title=\"Convert this dataframe to an interactive table.\"\n",
              "            style=\"display:none;\">\n",
              "\n",
              "  <svg xmlns=\"http://www.w3.org/2000/svg\" height=\"24px\" viewBox=\"0 -960 960 960\">\n",
              "    <path d=\"M120-120v-720h720v720H120Zm60-500h600v-160H180v160Zm220 220h160v-160H400v160Zm0 220h160v-160H400v160ZM180-400h160v-160H180v160Zm440 0h160v-160H620v160ZM180-180h160v-160H180v160Zm440 0h160v-160H620v160Z\"/>\n",
              "  </svg>\n",
              "    </button>\n",
              "\n",
              "  <style>\n",
              "    .colab-df-container {\n",
              "      display:flex;\n",
              "      gap: 12px;\n",
              "    }\n",
              "\n",
              "    .colab-df-convert {\n",
              "      background-color: #E8F0FE;\n",
              "      border: none;\n",
              "      border-radius: 50%;\n",
              "      cursor: pointer;\n",
              "      display: none;\n",
              "      fill: #1967D2;\n",
              "      height: 32px;\n",
              "      padding: 0 0 0 0;\n",
              "      width: 32px;\n",
              "    }\n",
              "\n",
              "    .colab-df-convert:hover {\n",
              "      background-color: #E2EBFA;\n",
              "      box-shadow: 0px 1px 2px rgba(60, 64, 67, 0.3), 0px 1px 3px 1px rgba(60, 64, 67, 0.15);\n",
              "      fill: #174EA6;\n",
              "    }\n",
              "\n",
              "    .colab-df-buttons div {\n",
              "      margin-bottom: 4px;\n",
              "    }\n",
              "\n",
              "    [theme=dark] .colab-df-convert {\n",
              "      background-color: #3B4455;\n",
              "      fill: #D2E3FC;\n",
              "    }\n",
              "\n",
              "    [theme=dark] .colab-df-convert:hover {\n",
              "      background-color: #434B5C;\n",
              "      box-shadow: 0px 1px 3px 1px rgba(0, 0, 0, 0.15);\n",
              "      filter: drop-shadow(0px 1px 2px rgba(0, 0, 0, 0.3));\n",
              "      fill: #FFFFFF;\n",
              "    }\n",
              "  </style>\n",
              "\n",
              "    <script>\n",
              "      const buttonEl =\n",
              "        document.querySelector('#df-5fcf1d36-be01-46f8-854c-db6bff48118b button.colab-df-convert');\n",
              "      buttonEl.style.display =\n",
              "        google.colab.kernel.accessAllowed ? 'block' : 'none';\n",
              "\n",
              "      async function convertToInteractive(key) {\n",
              "        const element = document.querySelector('#df-5fcf1d36-be01-46f8-854c-db6bff48118b');\n",
              "        const dataTable =\n",
              "          await google.colab.kernel.invokeFunction('convertToInteractive',\n",
              "                                                    [key], {});\n",
              "        if (!dataTable) return;\n",
              "\n",
              "        const docLinkHtml = 'Like what you see? Visit the ' +\n",
              "          '<a target=\"_blank\" href=https://colab.research.google.com/notebooks/data_table.ipynb>data table notebook</a>'\n",
              "          + ' to learn more about interactive tables.';\n",
              "        element.innerHTML = '';\n",
              "        dataTable['output_type'] = 'display_data';\n",
              "        await google.colab.output.renderOutput(dataTable, element);\n",
              "        const docLink = document.createElement('div');\n",
              "        docLink.innerHTML = docLinkHtml;\n",
              "        element.appendChild(docLink);\n",
              "      }\n",
              "    </script>\n",
              "  </div>\n",
              "\n",
              "\n",
              "<div id=\"df-cb518a98-25d5-4872-8a2c-85e6c28fbc37\">\n",
              "  <button class=\"colab-df-quickchart\" onclick=\"quickchart('df-cb518a98-25d5-4872-8a2c-85e6c28fbc37')\"\n",
              "            title=\"Suggest charts\"\n",
              "            style=\"display:none;\">\n",
              "\n",
              "<svg xmlns=\"http://www.w3.org/2000/svg\" height=\"24px\"viewBox=\"0 0 24 24\"\n",
              "     width=\"24px\">\n",
              "    <g>\n",
              "        <path d=\"M19 3H5c-1.1 0-2 .9-2 2v14c0 1.1.9 2 2 2h14c1.1 0 2-.9 2-2V5c0-1.1-.9-2-2-2zM9 17H7v-7h2v7zm4 0h-2V7h2v10zm4 0h-2v-4h2v4z\"/>\n",
              "    </g>\n",
              "</svg>\n",
              "  </button>\n",
              "\n",
              "<style>\n",
              "  .colab-df-quickchart {\n",
              "      --bg-color: #E8F0FE;\n",
              "      --fill-color: #1967D2;\n",
              "      --hover-bg-color: #E2EBFA;\n",
              "      --hover-fill-color: #174EA6;\n",
              "      --disabled-fill-color: #AAA;\n",
              "      --disabled-bg-color: #DDD;\n",
              "  }\n",
              "\n",
              "  [theme=dark] .colab-df-quickchart {\n",
              "      --bg-color: #3B4455;\n",
              "      --fill-color: #D2E3FC;\n",
              "      --hover-bg-color: #434B5C;\n",
              "      --hover-fill-color: #FFFFFF;\n",
              "      --disabled-bg-color: #3B4455;\n",
              "      --disabled-fill-color: #666;\n",
              "  }\n",
              "\n",
              "  .colab-df-quickchart {\n",
              "    background-color: var(--bg-color);\n",
              "    border: none;\n",
              "    border-radius: 50%;\n",
              "    cursor: pointer;\n",
              "    display: none;\n",
              "    fill: var(--fill-color);\n",
              "    height: 32px;\n",
              "    padding: 0;\n",
              "    width: 32px;\n",
              "  }\n",
              "\n",
              "  .colab-df-quickchart:hover {\n",
              "    background-color: var(--hover-bg-color);\n",
              "    box-shadow: 0 1px 2px rgba(60, 64, 67, 0.3), 0 1px 3px 1px rgba(60, 64, 67, 0.15);\n",
              "    fill: var(--button-hover-fill-color);\n",
              "  }\n",
              "\n",
              "  .colab-df-quickchart-complete:disabled,\n",
              "  .colab-df-quickchart-complete:disabled:hover {\n",
              "    background-color: var(--disabled-bg-color);\n",
              "    fill: var(--disabled-fill-color);\n",
              "    box-shadow: none;\n",
              "  }\n",
              "\n",
              "  .colab-df-spinner {\n",
              "    border: 2px solid var(--fill-color);\n",
              "    border-color: transparent;\n",
              "    border-bottom-color: var(--fill-color);\n",
              "    animation:\n",
              "      spin 1s steps(1) infinite;\n",
              "  }\n",
              "\n",
              "  @keyframes spin {\n",
              "    0% {\n",
              "      border-color: transparent;\n",
              "      border-bottom-color: var(--fill-color);\n",
              "      border-left-color: var(--fill-color);\n",
              "    }\n",
              "    20% {\n",
              "      border-color: transparent;\n",
              "      border-left-color: var(--fill-color);\n",
              "      border-top-color: var(--fill-color);\n",
              "    }\n",
              "    30% {\n",
              "      border-color: transparent;\n",
              "      border-left-color: var(--fill-color);\n",
              "      border-top-color: var(--fill-color);\n",
              "      border-right-color: var(--fill-color);\n",
              "    }\n",
              "    40% {\n",
              "      border-color: transparent;\n",
              "      border-right-color: var(--fill-color);\n",
              "      border-top-color: var(--fill-color);\n",
              "    }\n",
              "    60% {\n",
              "      border-color: transparent;\n",
              "      border-right-color: var(--fill-color);\n",
              "    }\n",
              "    80% {\n",
              "      border-color: transparent;\n",
              "      border-right-color: var(--fill-color);\n",
              "      border-bottom-color: var(--fill-color);\n",
              "    }\n",
              "    90% {\n",
              "      border-color: transparent;\n",
              "      border-bottom-color: var(--fill-color);\n",
              "    }\n",
              "  }\n",
              "</style>\n",
              "\n",
              "  <script>\n",
              "    async function quickchart(key) {\n",
              "      const quickchartButtonEl =\n",
              "        document.querySelector('#' + key + ' button');\n",
              "      quickchartButtonEl.disabled = true;  // To prevent multiple clicks.\n",
              "      quickchartButtonEl.classList.add('colab-df-spinner');\n",
              "      try {\n",
              "        const charts = await google.colab.kernel.invokeFunction(\n",
              "            'suggestCharts', [key], {});\n",
              "      } catch (error) {\n",
              "        console.error('Error during call to suggestCharts:', error);\n",
              "      }\n",
              "      quickchartButtonEl.classList.remove('colab-df-spinner');\n",
              "      quickchartButtonEl.classList.add('colab-df-quickchart-complete');\n",
              "    }\n",
              "    (() => {\n",
              "      let quickchartButtonEl =\n",
              "        document.querySelector('#df-cb518a98-25d5-4872-8a2c-85e6c28fbc37 button');\n",
              "      quickchartButtonEl.style.display =\n",
              "        google.colab.kernel.accessAllowed ? 'block' : 'none';\n",
              "    })();\n",
              "  </script>\n",
              "</div>\n",
              "\n",
              "    </div>\n",
              "  </div>\n"
            ],
            "application/vnd.google.colaboratory.intrinsic+json": {
              "type": "dataframe",
              "variable_name": "dataframe_0",
              "summary": "{\n  \"name\": \"dataframe_0\",\n  \"rows\": 374,\n  \"fields\": [\n    {\n      \"column\": \"Person ID\",\n      \"properties\": {\n        \"dtype\": \"string\",\n        \"num_unique_values\": 374,\n        \"samples\": [\n          \"72557-FE\",\n          \"81415-MD\",\n          \"26548-MD\"\n        ],\n        \"semantic_type\": \"\",\n        \"description\": \"\"\n      }\n    },\n    {\n      \"column\": \"Gender\",\n      \"properties\": {\n        \"dtype\": \"category\",\n        \"num_unique_values\": 2,\n        \"samples\": [\n          \"Female\",\n          \"Male\"\n        ],\n        \"semantic_type\": \"\",\n        \"description\": \"\"\n      }\n    },\n    {\n      \"column\": \"Age\",\n      \"properties\": {\n        \"dtype\": \"number\",\n        \"std\": 8.652315032981786,\n        \"min\": 27.0,\n        \"max\": 59.0,\n        \"num_unique_values\": 31,\n        \"samples\": [\n          56.0,\n          42.0\n        ],\n        \"semantic_type\": \"\",\n        \"description\": \"\"\n      }\n    },\n    {\n      \"column\": \"Occupation\",\n      \"properties\": {\n        \"dtype\": \"category\",\n        \"num_unique_values\": 11,\n        \"samples\": [\n          \"Engineer\",\n          \"Software Engineer\"\n        ],\n        \"semantic_type\": \"\",\n        \"description\": \"\"\n      }\n    },\n    {\n      \"column\": \"Sleep Duration\",\n      \"properties\": {\n        \"dtype\": \"number\",\n        \"std\": 0.7956567308898188,\n        \"min\": 5.8,\n        \"max\": 8.5,\n        \"num_unique_values\": 27,\n        \"samples\": [\n          7.7,\n          5.8\n        ],\n        \"semantic_type\": \"\",\n        \"description\": \"\"\n      }\n    },\n    {\n      \"column\": \"Quality of Sleep\",\n      \"properties\": {\n        \"dtype\": \"number\",\n        \"std\": 1,\n        \"min\": 4,\n        \"max\": 9,\n        \"num_unique_values\": 6,\n        \"samples\": [\n          6,\n          4\n        ],\n        \"semantic_type\": \"\",\n        \"description\": \"\"\n      }\n    },\n    {\n      \"column\": \"Physical Activity Level\",\n      \"properties\": {\n        \"dtype\": \"number\",\n        \"std\": 20,\n        \"min\": 30,\n        \"max\": 90,\n        \"num_unique_values\": 16,\n        \"samples\": [\n          42,\n          60\n        ],\n        \"semantic_type\": \"\",\n        \"description\": \"\"\n      }\n    },\n    {\n      \"column\": \"Stress Level\",\n      \"properties\": {\n        \"dtype\": \"number\",\n        \"std\": 1.7725904036251263,\n        \"min\": 3.0,\n        \"max\": 8.0,\n        \"num_unique_values\": 6,\n        \"samples\": [\n          6.0,\n          8.0\n        ],\n        \"semantic_type\": \"\",\n        \"description\": \"\"\n      }\n    },\n    {\n      \"column\": \"BMI Category\",\n      \"properties\": {\n        \"dtype\": \"category\",\n        \"num_unique_values\": 4,\n        \"samples\": [\n          \"Normal\",\n          \"Normal Weight\"\n        ],\n        \"semantic_type\": \"\",\n        \"description\": \"\"\n      }\n    },\n    {\n      \"column\": \"Blood Pressure\",\n      \"properties\": {\n        \"dtype\": \"category\",\n        \"num_unique_values\": 25,\n        \"samples\": [\n          \"128/85\",\n          \"119/77\"\n        ],\n        \"semantic_type\": \"\",\n        \"description\": \"\"\n      }\n    },\n    {\n      \"column\": \"Heart Rate\",\n      \"properties\": {\n        \"dtype\": \"number\",\n        \"std\": 4,\n        \"min\": 65,\n        \"max\": 86,\n        \"num_unique_values\": 19,\n        \"samples\": [\n          77,\n          80\n        ],\n        \"semantic_type\": \"\",\n        \"description\": \"\"\n      }\n    },\n    {\n      \"column\": \"Daily Steps\",\n      \"properties\": {\n        \"dtype\": \"number\",\n        \"std\": 1617,\n        \"min\": 3000,\n        \"max\": 10000,\n        \"num_unique_values\": 20,\n        \"samples\": [\n          4200,\n          6200\n        ],\n        \"semantic_type\": \"\",\n        \"description\": \"\"\n      }\n    },\n    {\n      \"column\": \"Sleep Disorder\",\n      \"properties\": {\n        \"dtype\": \"category\",\n        \"num_unique_values\": 3,\n        \"samples\": [\n          \"None\",\n          \"Sleep Apnea\"\n        ],\n        \"semantic_type\": \"\",\n        \"description\": \"\"\n      }\n    },\n    {\n      \"column\": \"Blood Pressure High\",\n      \"properties\": {\n        \"dtype\": \"number\",\n        \"std\": 7,\n        \"min\": 115,\n        \"max\": 142,\n        \"num_unique_values\": 18,\n        \"samples\": [\n          126,\n          125\n        ],\n        \"semantic_type\": \"\",\n        \"description\": \"\"\n      }\n    },\n    {\n      \"column\": \"Blood Pressure Low\",\n      \"properties\": {\n        \"dtype\": \"number\",\n        \"std\": 6,\n        \"min\": 75,\n        \"max\": 95,\n        \"num_unique_values\": 17,\n        \"samples\": [\n          83,\n          80\n        ],\n        \"semantic_type\": \"\",\n        \"description\": \"\"\n      }\n    }\n  ]\n}"
            }
          },
          "metadata": {},
          "execution_count": 7
        }
      ]
    },
    {
      "cell_type": "code",
      "source": [
        " # Part C - Imputation Method - The Method used was Frequent Category Imputation\n",
        "\n",
        " \"\"\"The Imputation Method replaces nulls using the Frequent Category Imputation\n",
        "       if null percentage is less or equal to 2.5% otherwise it drops the column\"\"\"\n",
        "def imputation_method ():\n",
        "    global dataframe_0\n",
        "    for i in dataframe_0.columns:\n",
        "        if get_null_percentage(i) <= 2.5:\n",
        "            if (i in statistical_metrics().index) and i != 'Person ID':\n",
        "\n",
        "              #Replace the Null values with the median from the statistical_metrics function\n",
        "                dataframe_0[i] = dataframe_0[i].fillna(int(statistical_metrics()['median'][i]))\n",
        "            elif i in string_counting().index:\n",
        "\n",
        "              #Replace the Null values with the most_frequent_elements from the string_counting function\n",
        "                dataframe_0[i] = dataframe_0[i].fillna(string_counting()['most_frequent_element'][i])\n",
        "        else:\n",
        "            dataframe_0 = dataframe_0.drop(i)\n",
        "    return\n",
        "\n",
        "imputation_method()\n",
        "dataframe_0.info()"
      ],
      "metadata": {
        "colab": {
          "base_uri": "https://localhost:8080/"
        },
        "id": "nGQ3IsLduOAZ",
        "outputId": "e2e527c0-0fba-4b9c-fbb5-d95bb5c8d2e9"
      },
      "execution_count": null,
      "outputs": [
        {
          "output_type": "stream",
          "name": "stdout",
          "text": [
            "<class 'pandas.core.frame.DataFrame'>\n",
            "RangeIndex: 374 entries, 0 to 373\n",
            "Data columns (total 15 columns):\n",
            " #   Column                   Non-Null Count  Dtype  \n",
            "---  ------                   --------------  -----  \n",
            " 0   Person ID                374 non-null    object \n",
            " 1   Gender                   374 non-null    object \n",
            " 2   Age                      374 non-null    float64\n",
            " 3   Occupation               374 non-null    object \n",
            " 4   Sleep Duration           374 non-null    float64\n",
            " 5   Quality of Sleep         374 non-null    int64  \n",
            " 6   Physical Activity Level  374 non-null    int64  \n",
            " 7   Stress Level             374 non-null    float64\n",
            " 8   BMI Category             374 non-null    object \n",
            " 9   Blood Pressure           374 non-null    object \n",
            " 10  Heart Rate               374 non-null    int64  \n",
            " 11  Daily Steps              374 non-null    int64  \n",
            " 12  Sleep Disorder           374 non-null    object \n",
            " 13  Blood Pressure High      374 non-null    int64  \n",
            " 14  Blood Pressure Low       374 non-null    int64  \n",
            "dtypes: float64(3), int64(6), object(6)\n",
            "memory usage: 44.0+ KB\n"
          ]
        }
      ]
    },
    {
      "cell_type": "code",
      "source": [
        "# Part D - Add a new feature derived from the existing attributes - Blood Pressure Category\n",
        "\n",
        "\"\"\" Categorize the Blood Pressure for each patient to ease the future analysis, while identifying causes that triggers\n",
        "    Sleep Disorders checking the Blood Pressure type would be easier to recognize for non-medical users in the analysis.\n",
        "    The Blood Pressure can be defined as Normal, Elevated, Stage 1 Hypertension, Stage 2 Hypertension\n",
        "    and Hypertension Crisis\"\"\"\n",
        "\n",
        "def get_blood_pressure_category(bpHigh, bpLow):\n",
        "    bpCategory = ''\n",
        "\n",
        "    # Values defined by the American Heart Association\n",
        "    if bpHigh < 120 and bpLow < 80:\n",
        "        bpCategory = 'Normal'\n",
        "    elif (120 <= bpHigh <= 129) and bpLow < 80:\n",
        "        bpCategory = 'Elevated'\n",
        "    elif (130 <= bpHigh <= 139) or (80 <= bpLow <= 89):\n",
        "        bpCategory = 'Stage 1 Hypertension'\n",
        "    elif 140 <= bpHigh <= 180 or 90 <= bpLow <= 120:\n",
        "        bpCategory = 'Stage 2 Hypertension'\n",
        "    else:\n",
        "        bpCategory = 'Hypertension Crisis'\n",
        "\n",
        "    return bpCategory\n",
        "\n",
        "dataframe_0['Blood Pressure Category'] = dataframe_0.apply(lambda row: get_blood_pressure_category(\n",
        "                                                          row['Blood Pressure High'], row['Blood Pressure Low']),\n",
        "                                                          axis=1\n",
        "                                                          )\n",
        "dataframe_0.info()"
      ],
      "metadata": {
        "id": "GNWyGdyrv_RO",
        "colab": {
          "base_uri": "https://localhost:8080/"
        },
        "outputId": "141cc863-f776-4c45-8243-873a5fcd0c34"
      },
      "execution_count": null,
      "outputs": [
        {
          "output_type": "stream",
          "name": "stdout",
          "text": [
            "<class 'pandas.core.frame.DataFrame'>\n",
            "RangeIndex: 374 entries, 0 to 373\n",
            "Data columns (total 16 columns):\n",
            " #   Column                   Non-Null Count  Dtype  \n",
            "---  ------                   --------------  -----  \n",
            " 0   Person ID                374 non-null    object \n",
            " 1   Gender                   374 non-null    object \n",
            " 2   Age                      374 non-null    float64\n",
            " 3   Occupation               374 non-null    object \n",
            " 4   Sleep Duration           374 non-null    float64\n",
            " 5   Quality of Sleep         374 non-null    int64  \n",
            " 6   Physical Activity Level  374 non-null    int64  \n",
            " 7   Stress Level             374 non-null    float64\n",
            " 8   BMI Category             374 non-null    object \n",
            " 9   Blood Pressure           374 non-null    object \n",
            " 10  Heart Rate               374 non-null    int64  \n",
            " 11  Daily Steps              374 non-null    int64  \n",
            " 12  Sleep Disorder           374 non-null    object \n",
            " 13  Blood Pressure High      374 non-null    int64  \n",
            " 14  Blood Pressure Low       374 non-null    int64  \n",
            " 15  Blood Pressure Category  374 non-null    object \n",
            "dtypes: float64(3), int64(6), object(7)\n",
            "memory usage: 46.9+ KB\n"
          ]
        }
      ]
    },
    {
      "cell_type": "markdown",
      "source": [
        "## Imputation Method Approach\n",
        "I decided to use the Frequent Category Imputation method based on\n",
        "\n",
        "**Assumptions**\n",
        "\n",
        "*   Data was missing at random.\n",
        "*   There is a high probability that the missing data looks like the majority of the data.\n",
        "\n",
        "**Advantages**\n",
        "\n",
        "*   We can obtain a complete dataset in very little time.\n",
        "*   We can use this technique in the production model.\n",
        "\n",
        "**Disadvantages**\n",
        "\n",
        "*   May lead to over-representation of a particular category\n",
        "*   Can distort original variable distribution\n",
        "*   The higher the percentage of missing values, the higher will be the distortion.\n",
        "\n",
        "**When to Use**\n",
        "\n",
        "*   Missing data is not more than 5% - 6% of the dataset\n",
        "*   Data is missing at random\n",
        "\n",
        "## Drop Column Implications\n",
        "\n",
        "**Lost in Information**\n",
        "\n",
        "*   Might remove columns that contain valuable insights, which could hurt the analysis or model performance.\n",
        "\n",
        "**Bias Introduction**\n",
        "\n",
        "*   If dropped columns are related to any variable, their absence can introduce bias.\n",
        "\n",
        "**Missed Interactions**\n",
        "\n",
        "* Missing columns could let to lose correlation between variables.\n",
        "\n",
        "**Data Leakage Risk**\n",
        "\n",
        "* Columns dropped after data splitting or transformation, leading to inconsistent datasets.\n",
        "\n",
        "\n",
        "\n"
      ],
      "metadata": {
        "id": "2_ZWezZ8VNax"
      }
    },
    {
      "cell_type": "markdown",
      "source": [
        "# 3. 📋 Data Reports <a name=\"data-reports\"></a>\n"
      ],
      "metadata": {
        "id": "PK6vsuN1dOpi"
      }
    },
    {
      "cell_type": "code",
      "source": [
        "# Part A - What is the occupation that sleep the least for men?\n",
        "sleepOcuppation_byMen = dataframe_0[dataframe_0['Gender'] == 'Male'].groupby(['Gender','Occupation'])['Sleep Duration'].mean()\n",
        "#print(sleepOcuppation_byMen)\n",
        "print('Based on in-depth analysis '\n",
        "      + sleepOcuppation_byMen.idxmin()[1]\n",
        "      + ' is the occupation that sleep the least for men.')"
      ],
      "metadata": {
        "colab": {
          "base_uri": "https://localhost:8080/"
        },
        "id": "go5TQigOmp5y",
        "outputId": "d57be987-77a6-404b-ef6d-ef66047b5ce8"
      },
      "execution_count": null,
      "outputs": [
        {
          "output_type": "stream",
          "name": "stdout",
          "text": [
            "Based on in-depth analysis Sales Representative is the occupation that sleep the least for men.\n"
          ]
        }
      ]
    },
    {
      "cell_type": "code",
      "source": [
        "# Part B - Which gender is more prone to suffer from overweight and have sleep diseases: men or women?\n",
        "overweightProne_sd = dataframe_0[(dataframe_0['BMI Category'] == 'Overweight')\n",
        "                                  & (dataframe_0['Sleep Disorder'] != 'None')]\n",
        "overweightProne_sd = overweightProne_sd.groupby(['Gender', 'BMI Category'])['Sleep Disorder'].count()\n",
        "#print(overweightProne_sd)\n",
        "print(overweightProne_sd.idxmax()[0]\n",
        "      + ' are more prone to suffer any type of sleep disorder from overweight.')"
      ],
      "metadata": {
        "colab": {
          "base_uri": "https://localhost:8080/"
        },
        "id": "GB-w90oXubnx",
        "outputId": "2c805eb2-e1d3-4c81-a52d-21096693f3df"
      },
      "execution_count": null,
      "outputs": [
        {
          "output_type": "stream",
          "name": "stdout",
          "text": [
            "Female are more prone to suffer any type of sleep disorder from overweight.\n"
          ]
        }
      ]
    },
    {
      "cell_type": "code",
      "source": [
        "# Part C - What is the average blood pressure for people suffering from sleep diseases?\n",
        "bpSleepDisorder = dataframe_0[(dataframe_0['Sleep Disorder'] != 'None')]\n",
        "bpHigh = int(bpSleepDisorder['Blood Pressure High'].mean())\n",
        "bpLow = int(bpSleepDisorder['Blood Pressure Low'].mean())\n",
        "bpCategory = get_blood_pressure_category(bpHigh, bpLow)\n",
        "print('The average Blood Pressure for people suffering from sleep disorder is: '\n",
        "      + str(bpHigh)\n",
        "      + '/'\n",
        "      + str(bpLow)\n",
        "      + ', categorized as '\n",
        "      + bpCategory)"
      ],
      "metadata": {
        "colab": {
          "base_uri": "https://localhost:8080/"
        },
        "id": "pSPulygKzC9x",
        "outputId": "6d1c33c5-e98f-42fa-b036-b4174ea0d412"
      },
      "execution_count": null,
      "outputs": [
        {
          "output_type": "stream",
          "name": "stdout",
          "text": [
            "The average Blood Pressure for people suffering from sleep disorder is: 134/89, categorized as Stage 1 Hypertension\n"
          ]
        }
      ]
    },
    {
      "cell_type": "code",
      "source": [
        "# Part D - What is the top 1 occupation for women that suffers no sleep diseases, with a quality sleep of above 7.5?\n",
        "top1Women_noDisorder = dataframe_0[(dataframe_0['Sleep Disorder'] == 'None')\n",
        "                                    & (dataframe_0['Quality of Sleep'] > 7.5)\n",
        "                                    & (dataframe_0['Gender'] == 'Female')]\n",
        "top1Women_noDisorder = top1Women_noDisorder.groupby('Occupation')['Sleep Duration'].mean()\n",
        "#print(top1Women_noDisorder)\n",
        "print('The Top 1 occupation in Women with Sleep Quality above 7.5 is '\n",
        "      + top1Women_noDisorder.idxmax())"
      ],
      "metadata": {
        "colab": {
          "base_uri": "https://localhost:8080/"
        },
        "id": "SXTCAjRl1MYp",
        "outputId": "bff4d510-1b73-4773-ea9b-1ae47fc51f69"
      },
      "execution_count": null,
      "outputs": [
        {
          "output_type": "stream",
          "name": "stdout",
          "text": [
            "The Top 1 occupation in Women with Sleep Quality above 7.5 is Engineer\n"
          ]
        }
      ]
    },
    {
      "cell_type": "markdown",
      "source": [
        "# 4. 📊 Data Visualization <a name=\"data-visualization\"></a>\n"
      ],
      "metadata": {
        "id": "dp6GzPOEQV_W"
      }
    },
    {
      "cell_type": "code",
      "source": [
        "#Part A  visual that links the age and the tendency to have some sleep disorder.\n",
        "genderAgeDisorder = dataframe_0\n",
        "genderAgeDisorder['Has Disorder'] = genderAgeDisorder['Sleep Disorder'].apply(lambda x: 0 if x == 'None' else 1)\n",
        "sns.regplot(data=genderAgeDisorder[genderAgeDisorder['Gender'] == 'Male'], x = 'Age', y = 'Has Disorder', color = 'red', label = \"Men\", scatter=False)\n",
        "sns.regplot(data=genderAgeDisorder[genderAgeDisorder['Gender'] == 'Female'], x = 'Age', y = 'Has Disorder', color = 'green', label = \"Women\", scatter=False)\n",
        "plt.title('Age vs Sleep Disorder Tendency')\n",
        "plt.legend()\n",
        "plt.show()"
      ],
      "metadata": {
        "colab": {
          "base_uri": "https://localhost:8080/",
          "height": 472
        },
        "id": "VoYm9WhJ_9VO",
        "outputId": "0aab2cc5-1ee1-4a42-bc26-370e9139ba7d"
      },
      "execution_count": null,
      "outputs": [
        {
          "output_type": "display_data",
          "data": {
            "text/plain": [
              "<Figure size 640x480 with 1 Axes>"
            ],
            "image/png": "[encoded data removed]"
          },
          "metadata": {}
        }
      ]
    },
    {
      "cell_type": "code",
      "source": [
        "# Part C - Variable affecting sleep (explain + plot)\n",
        "# Stress Level vs Slee Duration, Activity vs Sleep Quality\n",
        "sns.lmplot(data=dataframe_0, x='Sleep Duration', y='Stress Level', hue='Gender', aspect=1.5, scatter=False)\n",
        "plt.title('Stress vs Sleep Duration by Gender')\n",
        "plt.show()\n",
        "print(\" \")\n",
        "sns.lmplot(data=dataframe_0, x='Physical Activity Level', y='Quality of Sleep', hue='Gender', aspect=1.5, scatter=False)\n",
        "plt.title('Activity vs Sleep Quality by Gender')\n",
        "plt.show()"
      ],
      "metadata": {
        "colab": {
          "base_uri": "https://localhost:8080/",
          "height": 1000
        },
        "id": "AsXd7L1uK6Kw",
        "outputId": "818d3871-2346-4bc5-c58a-4f37c53cdcb8"
      },
      "execution_count": null,
      "outputs": [
        {
          "output_type": "display_data",
          "data": {
            "text/plain": [
              "<Figure size 850.25x500 with 1 Axes>"
            ],
            "image/png": "[encoded data removed]"
          },
          "metadata": {}
        },
        {
          "output_type": "stream",
          "name": "stdout",
          "text": [
            " \n"
          ]
        },
        {
          "output_type": "display_data",
          "data": {
            "text/plain": [
              "<Figure size 850.25x500 with 1 Axes>"
            ],
            "image/png": "[encoded data removed]"
          },
          "metadata": {}
        }
      ]
    },
    {
      "cell_type": "markdown",
      "source": [
        "Choosing Stress Level and Physical Activity as factors likely to affect sleep. As expected, the plot shows that higher stress is linked to lower sleep duration, particularly among males. In contrast, physical activity has a positive correlation with sleep quality, with women slightly outperforming men in the higher activity range."
      ],
      "metadata": {
        "id": "RUBOZUgWMxUF"
      }
    },
    {
      "cell_type": "code",
      "source": [
        "# Part D - Correlation between Gender, Occupation, Sleep Disorder\n",
        "sunburst_data = (dataframe_0[dataframe_0['Sleep Disorder'] != 'None'].groupby(['Gender', 'Occupation', 'Sleep Disorder'])\n",
        "                                                                     .size()\n",
        "                                                                     .reset_index(name='Count'))\n",
        "sunburst_data = sunburst_data[sunburst_data['Count'] > 1]\n",
        "fig = px.sunburst(\n",
        "    sunburst_data,\n",
        "    path=['Gender', 'Occupation', 'Sleep Disorder'],\n",
        "    values='Count',\n",
        "    color='Gender',\n",
        "    title='Sleep Disorders by Gender and Occupation'\n",
        ")\n",
        "\n",
        "fig.update_layout(\n",
        "    margin = dict(t=4, l=4, r=4, b=4)\n",
        ")\n",
        "fig.show()"
      ],
      "metadata": {
        "colab": {
          "base_uri": "https://localhost:8080/",
          "height": 542
        },
        "id": "Km9hj1cTQ4Z6",
        "outputId": "c6e93318-3e3a-40fd-c728-51e251c9bf90"
      },
      "execution_count": null,
      "outputs": [
        {
          "output_type": "display_data",
          "data": {
            "text/html": [
              "<html>\n",
              "<head><meta charset=\"utf-8\" /></head>\n",
              "<body>\n",
              "    <div>            <script src=\"https://cdnjs.cloudflare.com/ajax/libs/mathjax/2.7.5/MathJax.js?config=TeX-AMS-MML_SVG\"></script><script type=\"text/javascript\">if (window.MathJax && window.MathJax.Hub && window.MathJax.Hub.Config) {window.MathJax.Hub.Config({SVG: {font: \"STIX-Web\"}});}</script>                <script type=\"text/javascript\">window.PlotlyConfig = {MathJaxConfig: 'local'};</script>\n",
              "        <script charset=\"utf-8\" src=\"https://cdn.plot.ly/plotly-2.35.2.min.js\"></script>                <div id=\"9d71433c-b8e0-4e85-8776-f1275eb762c6\" class=\"plotly-graph-div\" style=\"height:525px; width:100%;\"></div>            <script type=\"text/javascript\">                                    window.PLOTLYENV=window.PLOTLYENV || {};                                    if (document.getElementById(\"9d71433c-b8e0-4e85-8776-f1275eb762c6\")) {                    Plotly.newPlot(                        \"9d71433c-b8e0-4e85-8776-f1275eb762c6\",                        [{\"branchvalues\":\"total\",\"customdata\":[[\"Female\"],[\"Male\"],[\"Male\"],[\"Male\"],[\"Female\"],[\"Male\"],[\"Female\"],[\"Male\"],[\"Male\"],[\"Male\"],[\"Female\"],[\"Male\"],[\"Female\"],[\"Female\"],[\"Female\"],[\"Male\"],[\"Male\"],[\"Male\"],[\"Female\"],[\"Male\"],[\"Male\"],[\"Female\"],[\"Female\"],[\"Male\"],[\"Female\"],[\"Male\"]],\"domain\":{\"x\":[0.0,1.0],\"y\":[0.0,1.0]},\"hovertemplate\":\"labels=%{label}\\u003cbr\\u003eCount=%{value}\\u003cbr\\u003eparent=%{parent}\\u003cbr\\u003eid=%{id}\\u003cbr\\u003eGender=%{customdata[0]}\\u003cextra\\u003e\\u003c\\u002fextra\\u003e\",\"ids\":[\"Female\\u002fAccountant\\u002fInsomnia\",\"Male\\u002fDoctor\\u002fInsomnia\",\"Male\\u002fEngineer\\u002fInsomnia\",\"Male\\u002fLawyer\\u002fInsomnia\",\"Female\\u002fNurse\\u002fInsomnia\",\"Male\\u002fSalesperson\\u002fInsomnia\",\"Female\\u002fTeacher\\u002fInsomnia\",\"Male\\u002fTeacher\\u002fInsomnia\",\"Male\\u002fDoctor\\u002fSleep Apnea\",\"Male\\u002fLawyer\\u002fSleep Apnea\",\"Female\\u002fNurse\\u002fSleep Apnea\",\"Male\\u002fSales Representative\\u002fSleep Apnea\",\"Female\\u002fScientist\\u002fSleep Apnea\",\"Female\\u002fTeacher\\u002fSleep Apnea\",\"Female\\u002fAccountant\",\"Male\\u002fDoctor\",\"Male\\u002fEngineer\",\"Male\\u002fLawyer\",\"Female\\u002fNurse\",\"Male\\u002fSales Representative\",\"Male\\u002fSalesperson\",\"Female\\u002fScientist\",\"Female\\u002fTeacher\",\"Male\\u002fTeacher\",\"Female\",\"Male\"],\"labels\":[\"Insomnia\",\"Insomnia\",\"Insomnia\",\"Insomnia\",\"Insomnia\",\"Insomnia\",\"Insomnia\",\"Insomnia\",\"Sleep Apnea\",\"Sleep Apnea\",\"Sleep Apnea\",\"Sleep Apnea\",\"Sleep Apnea\",\"Sleep Apnea\",\"Accountant\",\"Doctor\",\"Engineer\",\"Lawyer\",\"Nurse\",\"Sales Representative\",\"Salesperson\",\"Scientist\",\"Teacher\",\"Teacher\",\"Female\",\"Male\"],\"marker\":{\"colors\":[\"#636efa\",\"#EF553B\",\"#EF553B\",\"#EF553B\",\"#636efa\",\"#EF553B\",\"#636efa\",\"#EF553B\",\"#EF553B\",\"#EF553B\",\"#636efa\",\"#EF553B\",\"#636efa\",\"#636efa\",\"#636efa\",\"#EF553B\",\"#EF553B\",\"#EF553B\",\"#636efa\",\"#EF553B\",\"#EF553B\",\"#636efa\",\"#636efa\",\"#EF553B\",\"#636efa\",\"#EF553B\"]},\"name\":\"\",\"parents\":[\"Female\\u002fAccountant\",\"Male\\u002fDoctor\",\"Male\\u002fEngineer\",\"Male\\u002fLawyer\",\"Female\\u002fNurse\",\"Male\\u002fSalesperson\",\"Female\\u002fTeacher\",\"Male\\u002fTeacher\",\"Male\\u002fDoctor\",\"Male\\u002fLawyer\",\"Female\\u002fNurse\",\"Male\\u002fSales Representative\",\"Female\\u002fScientist\",\"Female\\u002fTeacher\",\"Female\",\"Male\",\"Male\",\"Male\",\"Female\",\"Male\",\"Male\",\"Female\",\"Female\",\"Male\",\"\",\"\"],\"values\":[7,3,4,2,3,29,25,2,4,2,61,2,2,3,7,7,4,4,64,2,29,2,28,2,101,48],\"type\":\"sunburst\"}],                        {\"template\":{\"data\":{\"histogram2dcontour\":[{\"type\":\"histogram2dcontour\",\"colorbar\":{\"outlinewidth\":0,\"ticks\":\"\"},\"colorscale\":[[0.0,\"#0d0887\"],[0.1111111111111111,\"#46039f\"],[0.2222222222222222,\"#7201a8\"],[0.3333333333333333,\"#9c179e\"],[0.4444444444444444,\"#bd3786\"],[0.5555555555555556,\"#d8576b\"],[0.6666666666666666,\"#ed7953\"],[0.7777777777777778,\"#fb9f3a\"],[0.8888888888888888,\"#fdca26\"],[1.0,\"#f0f921\"]]}],\"choropleth\":[{\"type\":\"choropleth\",\"colorbar\":{\"outlinewidth\":0,\"ticks\":\"\"}}],\"histogram2d\":[{\"type\":\"histogram2d\",\"colorbar\":{\"outlinewidth\":0,\"ticks\":\"\"},\"colorscale\":[[0.0,\"#0d0887\"],[0.1111111111111111,\"#46039f\"],[0.2222222222222222,\"#7201a8\"],[0.3333333333333333,\"#9c179e\"],[0.4444444444444444,\"#bd3786\"],[0.5555555555555556,\"#d8576b\"],[0.6666666666666666,\"#ed7953\"],[0.7777777777777778,\"#fb9f3a\"],[0.8888888888888888,\"#fdca26\"],[1.0,\"#f0f921\"]]}],\"heatmap\":[{\"type\":\"heatmap\",\"colorbar\":{\"outlinewidth\":0,\"ticks\":\"\"},\"colorscale\":[[0.0,\"#0d0887\"],[0.1111111111111111,\"#46039f\"],[0.2222222222222222,\"#7201a8\"],[0.3333333333333333,\"#9c179e\"],[0.4444444444444444,\"#bd3786\"],[0.5555555555555556,\"#d8576b\"],[0.6666666666666666,\"#ed7953\"],[0.7777777777777778,\"#fb9f3a\"],[0.8888888888888888,\"#fdca26\"],[1.0,\"#f0f921\"]]}],\"heatmapgl\":[{\"type\":\"heatmapgl\",\"colorbar\":{\"outlinewidth\":0,\"ticks\":\"\"},\"colorscale\":[[0.0,\"#0d0887\"],[0.1111111111111111,\"#46039f\"],[0.2222222222222222,\"#7201a8\"],[0.3333333333333333,\"#9c179e\"],[0.4444444444444444,\"#bd3786\"],[0.5555555555555556,\"#d8576b\"],[0.6666666666666666,\"#ed7953\"],[0.7777777777777778,\"#fb9f3a\"],[0.8888888888888888,\"#fdca26\"],[1.0,\"#f0f921\"]]}],\"contourcarpet\":[{\"type\":\"contourcarpet\",\"colorbar\":{\"outlinewidth\":0,\"ticks\":\"\"}}],\"contour\":[{\"type\":\"contour\",\"colorbar\":{\"outlinewidth\":0,\"ticks\":\"\"},\"colorscale\":[[0.0,\"#0d0887\"],[0.1111111111111111,\"#46039f\"],[0.2222222222222222,\"#7201a8\"],[0.3333333333333333,\"#9c179e\"],[0.4444444444444444,\"#bd3786\"],[0.5555555555555556,\"#d8576b\"],[0.6666666666666666,\"#ed7953\"],[0.7777777777777778,\"#fb9f3a\"],[0.8888888888888888,\"#fdca26\"],[1.0,\"#f0f921\"]]}],\"surface\":[{\"type\":\"surface\",\"colorbar\":{\"outlinewidth\":0,\"ticks\":\"\"},\"colorscale\":[[0.0,\"#0d0887\"],[0.1111111111111111,\"#46039f\"],[0.2222222222222222,\"#7201a8\"],[0.3333333333333333,\"#9c179e\"],[0.4444444444444444,\"#bd3786\"],[0.5555555555555556,\"#d8576b\"],[0.6666666666666666,\"#ed7953\"],[0.7777777777777778,\"#fb9f3a\"],[0.8888888888888888,\"#fdca26\"],[1.0,\"#f0f921\"]]}],\"mesh3d\":[{\"type\":\"mesh3d\",\"colorbar\":{\"outlinewidth\":0,\"ticks\":\"\"}}],\"scatter\":[{\"fillpattern\":{\"fillmode\":\"overlay\",\"size\":10,\"solidity\":0.2},\"type\":\"scatter\"}],\"parcoords\":[{\"type\":\"parcoords\",\"line\":{\"colorbar\":{\"outlinewidth\":0,\"ticks\":\"\"}}}],\"scatterpolargl\":[{\"type\":\"scatterpolargl\",\"marker\":{\"colorbar\":{\"outlinewidth\":0,\"ticks\":\"\"}}}],\"bar\":[{\"error_x\":{\"color\":\"#2a3f5f\"},\"error_y\":{\"color\":\"#2a3f5f\"},\"marker\":{\"line\":{\"color\":\"#E5ECF6\",\"width\":0.5},\"pattern\":{\"fillmode\":\"overlay\",\"size\":10,\"solidity\":0.2}},\"type\":\"bar\"}],\"scattergeo\":[{\"type\":\"scattergeo\",\"marker\":{\"colorbar\":{\"outlinewidth\":0,\"ticks\":\"\"}}}],\"scatterpolar\":[{\"type\":\"scatterpolar\",\"marker\":{\"colorbar\":{\"outlinewidth\":0,\"ticks\":\"\"}}}],\"histogram\":[{\"marker\":{\"pattern\":{\"fillmode\":\"overlay\",\"size\":10,\"solidity\":0.2}},\"type\":\"histogram\"}],\"scattergl\":[{\"type\":\"scattergl\",\"marker\":{\"colorbar\":{\"outlinewidth\":0,\"ticks\":\"\"}}}],\"scatter3d\":[{\"type\":\"scatter3d\",\"line\":{\"colorbar\":{\"outlinewidth\":0,\"ticks\":\"\"}},\"marker\":{\"colorbar\":{\"outlinewidth\":0,\"ticks\":\"\"}}}],\"scattermapbox\":[{\"type\":\"scattermapbox\",\"marker\":{\"colorbar\":{\"outlinewidth\":0,\"ticks\":\"\"}}}],\"scatterternary\":[{\"type\":\"scatterternary\",\"marker\":{\"colorbar\":{\"outlinewidth\":0,\"ticks\":\"\"}}}],\"scattercarpet\":[{\"type\":\"scattercarpet\",\"marker\":{\"colorbar\":{\"outlinewidth\":0,\"ticks\":\"\"}}}],\"carpet\":[{\"aaxis\":{\"endlinecolor\":\"#2a3f5f\",\"gridcolor\":\"white\",\"linecolor\":\"white\",\"minorgridcolor\":\"white\",\"startlinecolor\":\"#2a3f5f\"},\"baxis\":{\"endlinecolor\":\"#2a3f5f\",\"gridcolor\":\"white\",\"linecolor\":\"white\",\"minorgridcolor\":\"white\",\"startlinecolor\":\"#2a3f5f\"},\"type\":\"carpet\"}],\"table\":[{\"cells\":{\"fill\":{\"color\":\"#EBF0F8\"},\"line\":{\"color\":\"white\"}},\"header\":{\"fill\":{\"color\":\"#C8D4E3\"},\"line\":{\"color\":\"white\"}},\"type\":\"table\"}],\"barpolar\":[{\"marker\":{\"line\":{\"color\":\"#E5ECF6\",\"width\":0.5},\"pattern\":{\"fillmode\":\"overlay\",\"size\":10,\"solidity\":0.2}},\"type\":\"barpolar\"}],\"pie\":[{\"automargin\":true,\"type\":\"pie\"}]},\"layout\":{\"autotypenumbers\":\"strict\",\"colorway\":[\"#636efa\",\"#EF553B\",\"#00cc96\",\"#ab63fa\",\"#FFA15A\",\"#19d3f3\",\"#FF6692\",\"#B6E880\",\"#FF97FF\",\"#FECB52\"],\"font\":{\"color\":\"#2a3f5f\"},\"hovermode\":\"closest\",\"hoverlabel\":{\"align\":\"left\"},\"paper_bgcolor\":\"white\",\"plot_bgcolor\":\"#E5ECF6\",\"polar\":{\"bgcolor\":\"#E5ECF6\",\"angularaxis\":{\"gridcolor\":\"white\",\"linecolor\":\"white\",\"ticks\":\"\"},\"radialaxis\":{\"gridcolor\":\"white\",\"linecolor\":\"white\",\"ticks\":\"\"}},\"ternary\":{\"bgcolor\":\"#E5ECF6\",\"aaxis\":{\"gridcolor\":\"white\",\"linecolor\":\"white\",\"ticks\":\"\"},\"baxis\":{\"gridcolor\":\"white\",\"linecolor\":\"white\",\"ticks\":\"\"},\"caxis\":{\"gridcolor\":\"white\",\"linecolor\":\"white\",\"ticks\":\"\"}},\"coloraxis\":{\"colorbar\":{\"outlinewidth\":0,\"ticks\":\"\"}},\"colorscale\":{\"sequential\":[[0.0,\"#0d0887\"],[0.1111111111111111,\"#46039f\"],[0.2222222222222222,\"#7201a8\"],[0.3333333333333333,\"#9c179e\"],[0.4444444444444444,\"#bd3786\"],[0.5555555555555556,\"#d8576b\"],[0.6666666666666666,\"#ed7953\"],[0.7777777777777778,\"#fb9f3a\"],[0.8888888888888888,\"#fdca26\"],[1.0,\"#f0f921\"]],\"sequentialminus\":[[0.0,\"#0d0887\"],[0.1111111111111111,\"#46039f\"],[0.2222222222222222,\"#7201a8\"],[0.3333333333333333,\"#9c179e\"],[0.4444444444444444,\"#bd3786\"],[0.5555555555555556,\"#d8576b\"],[0.6666666666666666,\"#ed7953\"],[0.7777777777777778,\"#fb9f3a\"],[0.8888888888888888,\"#fdca26\"],[1.0,\"#f0f921\"]],\"diverging\":[[0,\"#8e0152\"],[0.1,\"#c51b7d\"],[0.2,\"#de77ae\"],[0.3,\"#f1b6da\"],[0.4,\"#fde0ef\"],[0.5,\"#f7f7f7\"],[0.6,\"#e6f5d0\"],[0.7,\"#b8e186\"],[0.8,\"#7fbc41\"],[0.9,\"#4d9221\"],[1,\"#276419\"]]},\"xaxis\":{\"gridcolor\":\"white\",\"linecolor\":\"white\",\"ticks\":\"\",\"title\":{\"standoff\":15},\"zerolinecolor\":\"white\",\"automargin\":true,\"zerolinewidth\":2},\"yaxis\":{\"gridcolor\":\"white\",\"linecolor\":\"white\",\"ticks\":\"\",\"title\":{\"standoff\":15},\"zerolinecolor\":\"white\",\"automargin\":true,\"zerolinewidth\":2},\"scene\":{\"xaxis\":{\"backgroundcolor\":\"#E5ECF6\",\"gridcolor\":\"white\",\"linecolor\":\"white\",\"showbackground\":true,\"ticks\":\"\",\"zerolinecolor\":\"white\",\"gridwidth\":2},\"yaxis\":{\"backgroundcolor\":\"#E5ECF6\",\"gridcolor\":\"white\",\"linecolor\":\"white\",\"showbackground\":true,\"ticks\":\"\",\"zerolinecolor\":\"white\",\"gridwidth\":2},\"zaxis\":{\"backgroundcolor\":\"#E5ECF6\",\"gridcolor\":\"white\",\"linecolor\":\"white\",\"showbackground\":true,\"ticks\":\"\",\"zerolinecolor\":\"white\",\"gridwidth\":2}},\"shapedefaults\":{\"line\":{\"color\":\"#2a3f5f\"}},\"annotationdefaults\":{\"arrowcolor\":\"#2a3f5f\",\"arrowhead\":0,\"arrowwidth\":1},\"geo\":{\"bgcolor\":\"white\",\"landcolor\":\"#E5ECF6\",\"subunitcolor\":\"white\",\"showland\":true,\"showlakes\":true,\"lakecolor\":\"white\"},\"title\":{\"x\":0.05},\"mapbox\":{\"style\":\"light\"}}},\"legend\":{\"tracegroupgap\":0},\"title\":{\"text\":\"Sleep Disorders by Gender and Occupation\"},\"margin\":{\"t\":4,\"l\":4,\"r\":4,\"b\":4}},                        {\"responsive\": true}                    ).then(function(){\n",
              "                            \n",
              "var gd = document.getElementById('9d71433c-b8e0-4e85-8776-f1275eb762c6');\n",
              "var x = new MutationObserver(function (mutations, observer) {{\n",
              "        var display = window.getComputedStyle(gd).display;\n",
              "        if (!display || display === 'none') {{\n",
              "            console.log([gd, 'removed!']);\n",
              "            Plotly.purge(gd);\n",
              "            observer.disconnect();\n",
              "        }}\n",
              "}});\n",
              "\n",
              "// Listen for the removal of the full notebook cells\n",
              "var notebookContainer = gd.closest('#notebook-container');\n",
              "if (notebookContainer) {{\n",
              "    x.observe(notebookContainer, {childList: true});\n",
              "}}\n",
              "\n",
              "// Listen for the clearing of the current output cell\n",
              "var outputEl = gd.closest('.output');\n",
              "if (outputEl) {{\n",
              "    x.observe(outputEl, {childList: true});\n",
              "}}\n",
              "\n",
              "                        })                };                            </script>        </div>\n",
              "</body>\n",
              "</html>"
            ]
          },
          "metadata": {}
        }
      ]
    },
    {
      "cell_type": "markdown",
      "source": [
        "This sunburst chart shows how sleep disorder are distributed across gender and occupation. We can clearly see that certation occupation (e.g \"Accountant\" and \"Teacher\") are highly associated to Insomnia in Women, while Men in roles like \"Doctor\" and \"Lawyer\" lean toward sleep apnea.\n",
        "\n",
        "This type of multi-variable visualization helps surface targeted wellbeing insights by segment.\n"
      ],
      "metadata": {
        "id": "YB6UHUuSVfV5"
      }
    },
    {
      "cell_type": "markdown",
      "source": [
        "# 5. ✅ Observations <a name=\"observations\"></a>"
      ],
      "metadata": {
        "id": "Nla2MhVgXpx5"
      }
    },
    {
      "cell_type": "code",
      "source": [
        "# Observation 1\n",
        "qualityOccupationTop3 = (dataframe_0.groupby(['Occupation'])[['Quality of Sleep','Daily Steps']]\n",
        "                         .mean()\n",
        "                         .nlargest(3, 'Quality of Sleep'))\n",
        "\n",
        "print(qualityOccupationTop3.sort_values(by=['Quality of Sleep'], ascending=False))"
      ],
      "metadata": {
        "id": "BokveirfidI3",
        "colab": {
          "base_uri": "https://localhost:8080/"
        },
        "outputId": "f8df16b5-8dc6-4466-de92-93d2ef1a9d52"
      },
      "execution_count": null,
      "outputs": [
        {
          "output_type": "stream",
          "name": "stdout",
          "text": [
            "            Quality of Sleep  Daily Steps\n",
            "Occupation                               \n",
            "Engineer            8.412698  5980.952381\n",
            "Lawyer              7.893617  7661.702128\n",
            "Accountant          7.891892  6881.081081\n"
          ]
        }
      ]
    },
    {
      "cell_type": "markdown",
      "source": [
        "The Top 3 Occupations with the best sleep quality alre report over 5500 daily steps suggesting physical activity may positively impact sleep."
      ],
      "metadata": {
        "id": "bGEA4wlEeinV"
      }
    },
    {
      "cell_type": "code",
      "source": [
        "# Observation 2\n",
        "sleepDisorderBpCategory = (dataframe_0.groupby(['Sleep Disorder', 'Blood Pressure Category'])['Person ID']\n",
        "                           .size()\n",
        "                           .reset_index(name=\"Count\"))\n",
        "\n",
        "print(sleepDisorderBpCategory.sort_values(by=['Count'], ascending=False))"
      ],
      "metadata": {
        "colab": {
          "base_uri": "https://localhost:8080/"
        },
        "id": "-tp6UNu2e7Ec",
        "outputId": "de87e4a7-549c-4bb5-cfd4-773c22695102"
      },
      "execution_count": null,
      "outputs": [
        {
          "output_type": "stream",
          "name": "stdout",
          "text": [
            "  Sleep Disorder Blood Pressure Category  Count\n",
            "5           None    Stage 1 Hypertension    174\n",
            "1       Insomnia    Stage 1 Hypertension     71\n",
            "9    Sleep Apnea    Stage 2 Hypertension     61\n",
            "4           None                  Normal     39\n",
            "8    Sleep Apnea    Stage 1 Hypertension     16\n",
            "6           None    Stage 2 Hypertension      5\n",
            "2       Insomnia    Stage 2 Hypertension      5\n",
            "0       Insomnia                  Normal      1\n",
            "3           None                Elevated      1\n",
            "7    Sleep Apnea                  Normal      1\n"
          ]
        }
      ]
    },
    {
      "cell_type": "markdown",
      "source": [
        "The Blood Pressure condition with most cases among the patients is Stage 1 Hypertension with 255 cases even for people unaffected by any Sleep Disorder, suggesting that Blood Pressure is not a factor that influence sleep."
      ],
      "metadata": {
        "id": "EKBfuZ0SmWM8"
      }
    },
    {
      "cell_type": "code",
      "source": [
        "sleepDisorderByBMI = dataframe_0.groupby(['Sleep Disorder'])['Physical Activity Level'].mean()\n",
        "\n",
        "print(sleepDisorderByBMI)"
      ],
      "metadata": {
        "colab": {
          "base_uri": "https://localhost:8080/"
        },
        "id": "3MJbpIIQlv1y",
        "outputId": "174904a7-65eb-434b-b1d8-99a6846ae0a2"
      },
      "execution_count": null,
      "outputs": [
        {
          "output_type": "stream",
          "name": "stdout",
          "text": [
            "Sleep Disorder\n",
            "Insomnia       46.818182\n",
            "None           57.949772\n",
            "Sleep Apnea    74.794872\n",
            "Name: Physical Activity Level, dtype: float64\n"
          ]
        }
      ]
    },
    {
      "cell_type": "markdown",
      "source": [
        "People with high physical activity level (75 point) may suffer from Sleep Apnea contrary to the levels shwon by people not affected by any sleep disorder."
      ],
      "metadata": {
        "id": "XyY-JXJtoj3-"
      }
    }
  ]
}